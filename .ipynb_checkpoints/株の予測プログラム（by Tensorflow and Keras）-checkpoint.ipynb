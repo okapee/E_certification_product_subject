{
 "cells": [
  {
   "cell_type": "code",
   "execution_count": 1,
   "metadata": {
    "ExecuteTime": {
     "end_time": "2020-09-11T05:54:58.106778Z",
     "start_time": "2020-09-11T05:54:52.917463Z"
    }
   },
   "outputs": [
    {
     "name": "stderr",
     "output_type": "stream",
     "text": [
      "Using TensorFlow backend.\n",
      "C:\\Users\\okape\\Anaconda3\\envs\\tensorflow\\lib\\site-packages\\tensorflow\\python\\framework\\dtypes.py:519: FutureWarning: Passing (type, 1) or '1type' as a synonym of type is deprecated; in a future version of numpy, it will be understood as (type, (1,)) / '(1,)type'.\n",
      "  _np_qint8 = np.dtype([(\"qint8\", np.int8, 1)])\n",
      "C:\\Users\\okape\\Anaconda3\\envs\\tensorflow\\lib\\site-packages\\tensorflow\\python\\framework\\dtypes.py:520: FutureWarning: Passing (type, 1) or '1type' as a synonym of type is deprecated; in a future version of numpy, it will be understood as (type, (1,)) / '(1,)type'.\n",
      "  _np_quint8 = np.dtype([(\"quint8\", np.uint8, 1)])\n",
      "C:\\Users\\okape\\Anaconda3\\envs\\tensorflow\\lib\\site-packages\\tensorflow\\python\\framework\\dtypes.py:521: FutureWarning: Passing (type, 1) or '1type' as a synonym of type is deprecated; in a future version of numpy, it will be understood as (type, (1,)) / '(1,)type'.\n",
      "  _np_qint16 = np.dtype([(\"qint16\", np.int16, 1)])\n",
      "C:\\Users\\okape\\Anaconda3\\envs\\tensorflow\\lib\\site-packages\\tensorflow\\python\\framework\\dtypes.py:522: FutureWarning: Passing (type, 1) or '1type' as a synonym of type is deprecated; in a future version of numpy, it will be understood as (type, (1,)) / '(1,)type'.\n",
      "  _np_quint16 = np.dtype([(\"quint16\", np.uint16, 1)])\n",
      "C:\\Users\\okape\\Anaconda3\\envs\\tensorflow\\lib\\site-packages\\tensorflow\\python\\framework\\dtypes.py:523: FutureWarning: Passing (type, 1) or '1type' as a synonym of type is deprecated; in a future version of numpy, it will be understood as (type, (1,)) / '(1,)type'.\n",
      "  _np_qint32 = np.dtype([(\"qint32\", np.int32, 1)])\n",
      "C:\\Users\\okape\\Anaconda3\\envs\\tensorflow\\lib\\site-packages\\tensorflow\\python\\framework\\dtypes.py:528: FutureWarning: Passing (type, 1) or '1type' as a synonym of type is deprecated; in a future version of numpy, it will be understood as (type, (1,)) / '(1,)type'.\n",
      "  np_resource = np.dtype([(\"resource\", np.ubyte, 1)])\n"
     ]
    }
   ],
   "source": [
    "import pandas as pd\n",
    "import numpy as np\n",
    "from sklearn.model_selection import train_test_split\n",
    "from keras.callbacks import EarlyStopping\n",
    "import matplotlib.pyplot as plt\n",
    "from keras.layers import Dense, LSTM, Dropout, Flatten\n",
    "from keras.models import Sequential"
   ]
  },
  {
   "cell_type": "code",
   "execution_count": 2,
   "metadata": {
    "ExecuteTime": {
     "end_time": "2020-09-11T05:55:01.171266Z",
     "start_time": "2020-09-11T05:54:59.549654Z"
    }
   },
   "outputs": [],
   "source": [
    "stock = pd.read_html('https://kabuoji3.com/stock/1333/', index_col='日付', parse_dates=True)"
   ]
  },
  {
   "cell_type": "code",
   "execution_count": 3,
   "metadata": {
    "ExecuteTime": {
     "end_time": "2020-09-11T05:55:01.248264Z",
     "start_time": "2020-09-11T05:55:01.219264Z"
    }
   },
   "outputs": [
    {
     "data": {
      "text/html": [
       "<div>\n",
       "<style scoped>\n",
       "    .dataframe tbody tr th:only-of-type {\n",
       "        vertical-align: middle;\n",
       "    }\n",
       "\n",
       "    .dataframe tbody tr th {\n",
       "        vertical-align: top;\n",
       "    }\n",
       "\n",
       "    .dataframe thead th {\n",
       "        text-align: right;\n",
       "    }\n",
       "</style>\n",
       "<table border=\"1\" class=\"dataframe\">\n",
       "  <thead>\n",
       "    <tr style=\"text-align: right;\">\n",
       "      <th></th>\n",
       "      <th>始値</th>\n",
       "      <th>高値</th>\n",
       "      <th>安値</th>\n",
       "      <th>終値</th>\n",
       "      <th>出来高</th>\n",
       "      <th>終値調整</th>\n",
       "    </tr>\n",
       "    <tr>\n",
       "      <th>日付</th>\n",
       "      <th></th>\n",
       "      <th></th>\n",
       "      <th></th>\n",
       "      <th></th>\n",
       "      <th></th>\n",
       "      <th></th>\n",
       "    </tr>\n",
       "  </thead>\n",
       "  <tbody>\n",
       "    <tr>\n",
       "      <th>2020-08-26</th>\n",
       "      <td>2294</td>\n",
       "      <td>2294</td>\n",
       "      <td>2265</td>\n",
       "      <td>2276</td>\n",
       "      <td>133300</td>\n",
       "      <td>2276</td>\n",
       "    </tr>\n",
       "    <tr>\n",
       "      <th>2020-08-25</th>\n",
       "      <td>2265</td>\n",
       "      <td>2290</td>\n",
       "      <td>2257</td>\n",
       "      <td>2271</td>\n",
       "      <td>217100</td>\n",
       "      <td>2271</td>\n",
       "    </tr>\n",
       "    <tr>\n",
       "      <th>2020-08-24</th>\n",
       "      <td>2255</td>\n",
       "      <td>2255</td>\n",
       "      <td>2228</td>\n",
       "      <td>2228</td>\n",
       "      <td>126100</td>\n",
       "      <td>2228</td>\n",
       "    </tr>\n",
       "    <tr>\n",
       "      <th>2020-08-21</th>\n",
       "      <td>2270</td>\n",
       "      <td>2291</td>\n",
       "      <td>2255</td>\n",
       "      <td>2255</td>\n",
       "      <td>86600</td>\n",
       "      <td>2255</td>\n",
       "    </tr>\n",
       "    <tr>\n",
       "      <th>2020-08-20</th>\n",
       "      <td>2274</td>\n",
       "      <td>2285</td>\n",
       "      <td>2262</td>\n",
       "      <td>2276</td>\n",
       "      <td>88000</td>\n",
       "      <td>2276</td>\n",
       "    </tr>\n",
       "    <tr>\n",
       "      <th>...</th>\n",
       "      <td>...</td>\n",
       "      <td>...</td>\n",
       "      <td>...</td>\n",
       "      <td>...</td>\n",
       "      <td>...</td>\n",
       "      <td>...</td>\n",
       "    </tr>\n",
       "    <tr>\n",
       "      <th>2020-01-15</th>\n",
       "      <td>2740</td>\n",
       "      <td>2766</td>\n",
       "      <td>2737</td>\n",
       "      <td>2754</td>\n",
       "      <td>140800</td>\n",
       "      <td>2754</td>\n",
       "    </tr>\n",
       "    <tr>\n",
       "      <th>2020-01-14</th>\n",
       "      <td>2771</td>\n",
       "      <td>2771</td>\n",
       "      <td>2739</td>\n",
       "      <td>2759</td>\n",
       "      <td>236400</td>\n",
       "      <td>2759</td>\n",
       "    </tr>\n",
       "    <tr>\n",
       "      <th>2020-01-10</th>\n",
       "      <td>2765</td>\n",
       "      <td>2773</td>\n",
       "      <td>2753</td>\n",
       "      <td>2755</td>\n",
       "      <td>175400</td>\n",
       "      <td>2755</td>\n",
       "    </tr>\n",
       "    <tr>\n",
       "      <th>2020-01-09</th>\n",
       "      <td>2734</td>\n",
       "      <td>2756</td>\n",
       "      <td>2732</td>\n",
       "      <td>2749</td>\n",
       "      <td>213800</td>\n",
       "      <td>2749</td>\n",
       "    </tr>\n",
       "    <tr>\n",
       "      <th>2020-01-08</th>\n",
       "      <td>2714</td>\n",
       "      <td>2727</td>\n",
       "      <td>2692</td>\n",
       "      <td>2711</td>\n",
       "      <td>275800</td>\n",
       "      <td>2711</td>\n",
       "    </tr>\n",
       "  </tbody>\n",
       "</table>\n",
       "<p>151 rows × 6 columns</p>\n",
       "</div>"
      ],
      "text/plain": [
       "              始値    高値    安値    終値     出来高  終値調整\n",
       "日付                                              \n",
       "2020-08-26  2294  2294  2265  2276  133300  2276\n",
       "2020-08-25  2265  2290  2257  2271  217100  2271\n",
       "2020-08-24  2255  2255  2228  2228  126100  2228\n",
       "2020-08-21  2270  2291  2255  2255   86600  2255\n",
       "2020-08-20  2274  2285  2262  2276   88000  2276\n",
       "...          ...   ...   ...   ...     ...   ...\n",
       "2020-01-15  2740  2766  2737  2754  140800  2754\n",
       "2020-01-14  2771  2771  2739  2759  236400  2759\n",
       "2020-01-10  2765  2773  2753  2755  175400  2755\n",
       "2020-01-09  2734  2756  2732  2749  213800  2749\n",
       "2020-01-08  2714  2727  2692  2711  275800  2711\n",
       "\n",
       "[151 rows x 6 columns]"
      ]
     },
     "execution_count": 3,
     "metadata": {},
     "output_type": "execute_result"
    }
   ],
   "source": [
    "stock[0]"
   ]
  },
  {
   "cell_type": "code",
   "execution_count": 6,
   "metadata": {
    "ExecuteTime": {
     "end_time": "2020-09-11T05:56:36.118779Z",
     "start_time": "2020-09-11T05:56:35.889741Z"
    }
   },
   "outputs": [
    {
     "data": {
      "text/plain": [
       "<matplotlib.axes._subplots.AxesSubplot at 0x1b701855160>"
      ]
     },
     "execution_count": 6,
     "metadata": {},
     "output_type": "execute_result"
    },
    {
     "name": "stderr",
     "output_type": "stream",
     "text": [
      "C:\\Users\\okape\\Anaconda3\\envs\\tensorflow\\lib\\site-packages\\matplotlib\\backends\\backend_agg.py:211: RuntimeWarning: Glyph 26085 missing from current font.\n",
      "  font.set_text(s, 0.0, flags=flags)\n",
      "C:\\Users\\okape\\Anaconda3\\envs\\tensorflow\\lib\\site-packages\\matplotlib\\backends\\backend_agg.py:211: RuntimeWarning: Glyph 20184 missing from current font.\n",
      "  font.set_text(s, 0.0, flags=flags)\n",
      "C:\\Users\\okape\\Anaconda3\\envs\\tensorflow\\lib\\site-packages\\matplotlib\\backends\\backend_agg.py:180: RuntimeWarning: Glyph 26085 missing from current font.\n",
      "  font.set_text(s, 0, flags=flags)\n",
      "C:\\Users\\okape\\Anaconda3\\envs\\tensorflow\\lib\\site-packages\\matplotlib\\backends\\backend_agg.py:180: RuntimeWarning: Glyph 20184 missing from current font.\n",
      "  font.set_text(s, 0, flags=flags)\n",
      "C:\\Users\\okape\\Anaconda3\\envs\\tensorflow\\lib\\site-packages\\matplotlib\\backends\\backend_agg.py:211: RuntimeWarning: Glyph 32066 missing from current font.\n",
      "  font.set_text(s, 0.0, flags=flags)\n",
      "C:\\Users\\okape\\Anaconda3\\envs\\tensorflow\\lib\\site-packages\\matplotlib\\backends\\backend_agg.py:211: RuntimeWarning: Glyph 20516 missing from current font.\n",
      "  font.set_text(s, 0.0, flags=flags)\n",
      "C:\\Users\\okape\\Anaconda3\\envs\\tensorflow\\lib\\site-packages\\matplotlib\\backends\\backend_agg.py:180: RuntimeWarning: Glyph 32066 missing from current font.\n",
      "  font.set_text(s, 0, flags=flags)\n",
      "C:\\Users\\okape\\Anaconda3\\envs\\tensorflow\\lib\\site-packages\\matplotlib\\backends\\backend_agg.py:180: RuntimeWarning: Glyph 20516 missing from current font.\n",
      "  font.set_text(s, 0, flags=flags)\n"
     ]
    },
    {
     "data": {
      "image/png": "[encoded data removed]",
      "text/plain": [
       "<Figure size 432x288 with 1 Axes>"
      ]
     },
     "metadata": {
      "needs_background": "light"
     },
     "output_type": "display_data"
    }
   ],
   "source": [
    "stock[0].plot(y='終値')"
   ]
  },
  {
   "cell_type": "code",
   "execution_count": 7,
   "metadata": {
    "ExecuteTime": {
     "end_time": "2020-09-11T05:56:55.584121Z",
     "start_time": "2020-09-11T05:56:55.579119Z"
    }
   },
   "outputs": [],
   "source": [
    "#stock[0]とstock[1]に分断されて格納されている\n",
    "data = stock[0].drop(['始値', '高値', '安値', '出来高', '終値調整'], axis=1)"
   ]
  },
  {
   "cell_type": "code",
   "execution_count": 8,
   "metadata": {
    "ExecuteTime": {
     "end_time": "2020-09-11T05:56:56.898120Z",
     "start_time": "2020-09-11T05:56:56.887156Z"
    }
   },
   "outputs": [
    {
     "data": {
      "text/html": [
       "<div>\n",
       "<style scoped>\n",
       "    .dataframe tbody tr th:only-of-type {\n",
       "        vertical-align: middle;\n",
       "    }\n",
       "\n",
       "    .dataframe tbody tr th {\n",
       "        vertical-align: top;\n",
       "    }\n",
       "\n",
       "    .dataframe thead th {\n",
       "        text-align: right;\n",
       "    }\n",
       "</style>\n",
       "<table border=\"1\" class=\"dataframe\">\n",
       "  <thead>\n",
       "    <tr style=\"text-align: right;\">\n",
       "      <th></th>\n",
       "      <th>終値</th>\n",
       "    </tr>\n",
       "    <tr>\n",
       "      <th>日付</th>\n",
       "      <th></th>\n",
       "    </tr>\n",
       "  </thead>\n",
       "  <tbody>\n",
       "    <tr>\n",
       "      <th>2020-08-26</th>\n",
       "      <td>2276</td>\n",
       "    </tr>\n",
       "    <tr>\n",
       "      <th>2020-08-25</th>\n",
       "      <td>2271</td>\n",
       "    </tr>\n",
       "    <tr>\n",
       "      <th>2020-08-24</th>\n",
       "      <td>2228</td>\n",
       "    </tr>\n",
       "    <tr>\n",
       "      <th>2020-08-21</th>\n",
       "      <td>2255</td>\n",
       "    </tr>\n",
       "    <tr>\n",
       "      <th>2020-08-20</th>\n",
       "      <td>2276</td>\n",
       "    </tr>\n",
       "    <tr>\n",
       "      <th>...</th>\n",
       "      <td>...</td>\n",
       "    </tr>\n",
       "    <tr>\n",
       "      <th>2020-01-15</th>\n",
       "      <td>2754</td>\n",
       "    </tr>\n",
       "    <tr>\n",
       "      <th>2020-01-14</th>\n",
       "      <td>2759</td>\n",
       "    </tr>\n",
       "    <tr>\n",
       "      <th>2020-01-10</th>\n",
       "      <td>2755</td>\n",
       "    </tr>\n",
       "    <tr>\n",
       "      <th>2020-01-09</th>\n",
       "      <td>2749</td>\n",
       "    </tr>\n",
       "    <tr>\n",
       "      <th>2020-01-08</th>\n",
       "      <td>2711</td>\n",
       "    </tr>\n",
       "  </tbody>\n",
       "</table>\n",
       "<p>151 rows × 1 columns</p>\n",
       "</div>"
      ],
      "text/plain": [
       "              終値\n",
       "日付              \n",
       "2020-08-26  2276\n",
       "2020-08-25  2271\n",
       "2020-08-24  2228\n",
       "2020-08-21  2255\n",
       "2020-08-20  2276\n",
       "...          ...\n",
       "2020-01-15  2754\n",
       "2020-01-14  2759\n",
       "2020-01-10  2755\n",
       "2020-01-09  2749\n",
       "2020-01-08  2711\n",
       "\n",
       "[151 rows x 1 columns]"
      ]
     },
     "execution_count": 8,
     "metadata": {},
     "output_type": "execute_result"
    }
   ],
   "source": [
    "data"
   ]
  },
  {
   "cell_type": "code",
   "execution_count": 9,
   "metadata": {
    "ExecuteTime": {
     "end_time": "2020-09-11T05:56:58.154924Z",
     "start_time": "2020-09-11T05:56:57.977892Z"
    }
   },
   "outputs": [
    {
     "name": "stdout",
     "output_type": "stream",
     "text": [
      "_________________________________________________________________\n",
      "Layer (type)                 Output Shape              Param #   \n",
      "=================================================================\n",
      "dense_1 (Dense)              (None, 5)                 505       \n",
      "_________________________________________________________________\n",
      "dropout_1 (Dropout)          (None, 5)                 0         \n",
      "_________________________________________________________________\n",
      "dense_2 (Dense)              (None, 1)                 6         \n",
      "=================================================================\n",
      "Total params: 511\n",
      "Trainable params: 511\n",
      "Non-trainable params: 0\n",
      "_________________________________________________________________\n"
     ]
    }
   ],
   "source": [
    "model_1 = Sequential()\n",
    "model_1.add(Dense(5, activation='relu', input_shape=(100, )))\n",
    "model_1.add(Dropout(0.5))\n",
    "model_1.add(Dense(1, activation='linear'))\n",
    "\n",
    "model_1.summary()\n",
    "model_1.compile(optimizer='adam',\n",
    "           loss='mse', # 平均二乗誤差\n",
    "           metrics=['mae']) # 平均絶対誤差\n"
   ]
  },
  {
   "cell_type": "code",
   "execution_count": 22,
   "metadata": {
    "ExecuteTime": {
     "end_time": "2020-09-11T06:01:13.720794Z",
     "start_time": "2020-09-11T06:01:13.159202Z"
    }
   },
   "outputs": [
    {
     "name": "stdout",
     "output_type": "stream",
     "text": [
      "_________________________________________________________________\n",
      "Layer (type)                 Output Shape              Param #   \n",
      "=================================================================\n",
      "lstm_2 (LSTM)                (None, 10)                480       \n",
      "_________________________________________________________________\n",
      "dense_5 (Dense)              (None, 5)                 55        \n",
      "_________________________________________________________________\n",
      "dropout_3 (Dropout)          (None, 5)                 0         \n",
      "_________________________________________________________________\n",
      "dense_6 (Dense)              (None, 1)                 6         \n",
      "=================================================================\n",
      "Total params: 541\n",
      "Trainable params: 541\n",
      "Non-trainable params: 0\n",
      "_________________________________________________________________\n"
     ]
    }
   ],
   "source": [
    "model_2 = Sequential()\n",
    "model_2.add(LSTM(10,\n",
    "             dropout=0.2,\n",
    "             recurrent_dropout=0.2,\n",
    "             input_shape=(100,1)))\n",
    "model_2.add(Dense(5, activation='relu'))\n",
    "model_2.add(Dropout(0.5))\n",
    "model_2.add(Dense(1, activation='linear'))\n",
    "model_2.summary()\n",
    "model_2.compile(optimizer='adam',\n",
    "           loss='mse',\n",
    "           metrics=['mae'])"
   ]
  },
  {
   "cell_type": "code",
   "execution_count": 11,
   "metadata": {
    "ExecuteTime": {
     "end_time": "2020-09-11T05:57:05.646860Z",
     "start_time": "2020-09-11T05:57:05.637860Z"
    }
   },
   "outputs": [],
   "source": [
    "def getInputLabel(data, period=100):\n",
    " period = period\n",
    " input_tensor = []\n",
    " label_tensor = []\n",
    " for i in range(0, len(data) - period, 1):\n",
    "     input_tensor.append(data.values[i:i + period,0])\n",
    "     label_tensor.append(data.values[i + period,0])\n",
    " input_tensor = np.array(input_tensor)\n",
    " label_tensor = np.array(label_tensor)\n",
    " return input_tensor, label_tensor"
   ]
  },
  {
   "cell_type": "code",
   "execution_count": 12,
   "metadata": {
    "ExecuteTime": {
     "end_time": "2020-09-11T05:57:19.026631Z",
     "start_time": "2020-09-11T05:57:18.987628Z"
    }
   },
   "outputs": [
    {
     "name": "stdout",
     "output_type": "stream",
     "text": [
      "tmp:                   終値\n",
      "日付                  \n",
      "2020-08-26 -0.197099\n",
      "2020-08-25 -0.222524\n",
      "2020-08-24 -0.441175\n",
      "2020-08-21 -0.303882\n",
      "2020-08-20 -0.197099\n",
      "...              ...\n",
      "2020-01-15  2.233486\n",
      "2020-01-14  2.258910\n",
      "2020-01-10  2.238571\n",
      "2020-01-09  2.208061\n",
      "2020-01-08  2.014835\n",
      "\n",
      "[151 rows x 1 columns]\n"
     ]
    }
   ],
   "source": [
    "tmp = data - data.mean()\n",
    "tmp = tmp/data.std()\n",
    "print('tmp: ' + str(tmp))\n",
    "input_tensor, label_tensor = getInputLabel(data = tmp)"
   ]
  },
  {
   "cell_type": "code",
   "execution_count": 13,
   "metadata": {
    "ExecuteTime": {
     "end_time": "2020-09-11T05:57:22.821234Z",
     "start_time": "2020-09-11T05:57:22.813234Z"
    }
   },
   "outputs": [],
   "source": [
    "X_train, X_test, y_train, y_test = train_test_split(input_tensor, label_tensor, test_size=0.2, shuffle = False)"
   ]
  },
  {
   "cell_type": "code",
   "execution_count": 14,
   "metadata": {
    "ExecuteTime": {
     "end_time": "2020-09-11T05:57:23.560269Z",
     "start_time": "2020-09-11T05:57:23.553271Z"
    }
   },
   "outputs": [],
   "source": [
    "earlystopping = EarlyStopping(monitor='loss', patience=5)"
   ]
  },
  {
   "cell_type": "code",
   "execution_count": 15,
   "metadata": {
    "ExecuteTime": {
     "end_time": "2020-09-11T05:57:29.191988Z",
     "start_time": "2020-09-11T05:57:25.330925Z"
    }
   },
   "outputs": [
    {
     "name": "stdout",
     "output_type": "stream",
     "text": [
      "Epoch 1/50\n",
      "40/40 [==============================] - 3s 79ms/step - loss: 1.7446 - mean_absolute_error: 1.1824\n",
      "Epoch 2/50\n",
      "40/40 [==============================] - 0s 350us/step - loss: 1.6364 - mean_absolute_error: 1.1426\n",
      "Epoch 3/50\n",
      "40/40 [==============================] - 0s 575us/step - loss: 1.4967 - mean_absolute_error: 1.0934\n",
      "Epoch 4/50\n",
      "40/40 [==============================] - 0s 325us/step - loss: 1.4500 - mean_absolute_error: 1.0646\n",
      "Epoch 5/50\n",
      "40/40 [==============================] - 0s 350us/step - loss: 1.4669 - mean_absolute_error: 1.0879\n",
      "Epoch 6/50\n",
      "40/40 [==============================] - 0s 425us/step - loss: 1.4244 - mean_absolute_error: 1.0504\n",
      "Epoch 7/50\n",
      "40/40 [==============================] - 0s 350us/step - loss: 1.1881 - mean_absolute_error: 0.9175\n",
      "Epoch 8/50\n",
      "40/40 [==============================] - 0s 325us/step - loss: 1.2440 - mean_absolute_error: 0.9711\n",
      "Epoch 9/50\n",
      "40/40 [==============================] - 0s 725us/step - loss: 1.2946 - mean_absolute_error: 0.9717\n",
      "Epoch 10/50\n",
      "40/40 [==============================] - 0s 700us/step - loss: 1.2610 - mean_absolute_error: 0.9720\n",
      "Epoch 11/50\n",
      "40/40 [==============================] - 0s 275us/step - loss: 1.0128 - mean_absolute_error: 0.8087\n",
      "Epoch 12/50\n",
      "40/40 [==============================] - 0s 300us/step - loss: 1.1529 - mean_absolute_error: 0.8884\n",
      "Epoch 13/50\n",
      "40/40 [==============================] - 0s 375us/step - loss: 0.9822 - mean_absolute_error: 0.8313\n",
      "Epoch 14/50\n",
      "40/40 [==============================] - 0s 375us/step - loss: 0.9723 - mean_absolute_error: 0.7998\n",
      "Epoch 15/50\n",
      "40/40 [==============================] - 0s 350us/step - loss: 0.9328 - mean_absolute_error: 0.7610\n",
      "Epoch 16/50\n",
      "40/40 [==============================] - 0s 350us/step - loss: 0.9055 - mean_absolute_error: 0.7549\n",
      "Epoch 17/50\n",
      "40/40 [==============================] - 0s 425us/step - loss: 0.8809 - mean_absolute_error: 0.7458\n",
      "Epoch 18/50\n",
      "40/40 [==============================] - 0s 300us/step - loss: 0.9729 - mean_absolute_error: 0.7825\n",
      "Epoch 19/50\n",
      "40/40 [==============================] - 0s 350us/step - loss: 0.8170 - mean_absolute_error: 0.7226\n",
      "Epoch 20/50\n",
      "40/40 [==============================] - 0s 350us/step - loss: 0.9153 - mean_absolute_error: 0.7656\n",
      "Epoch 21/50\n",
      "40/40 [==============================] - 0s 350us/step - loss: 0.8643 - mean_absolute_error: 0.7859\n",
      "Epoch 22/50\n",
      "40/40 [==============================] - 0s 425us/step - loss: 0.8991 - mean_absolute_error: 0.7355\n",
      "Epoch 23/50\n",
      "40/40 [==============================] - 0s 275us/step - loss: 0.9030 - mean_absolute_error: 0.7570\n",
      "Epoch 24/50\n",
      "40/40 [==============================] - 0s 300us/step - loss: 0.9710 - mean_absolute_error: 0.8299\n"
     ]
    },
    {
     "data": {
      "text/plain": [
       "<keras.callbacks.History at 0x1b7018e0198>"
      ]
     },
     "execution_count": 15,
     "metadata": {},
     "output_type": "execute_result"
    }
   ],
   "source": [
    "model_1.fit(X_train, y_train, batch_size=10, epochs=50, callbacks=[earlystopping])"
   ]
  },
  {
   "cell_type": "code",
   "execution_count": 16,
   "metadata": {
    "ExecuteTime": {
     "end_time": "2020-09-11T05:57:36.707952Z",
     "start_time": "2020-09-11T05:57:36.659952Z"
    }
   },
   "outputs": [
    {
     "name": "stdout",
     "output_type": "stream",
     "text": [
      "\r",
      "11/11 [==============================] - 0s 4ms/step\n"
     ]
    }
   ],
   "source": [
    "loss_and_metrics = model_1.evaluate(X_test, y_test, batch_size=50)"
   ]
  },
  {
   "cell_type": "code",
   "execution_count": 17,
   "metadata": {
    "ExecuteTime": {
     "end_time": "2020-09-11T05:57:37.219184Z",
     "start_time": "2020-09-11T05:57:37.206185Z"
    }
   },
   "outputs": [
    {
     "data": {
      "text/plain": [
       "[3.323532819747925, 1.7836533784866333]"
      ]
     },
     "execution_count": 17,
     "metadata": {},
     "output_type": "execute_result"
    }
   ],
   "source": [
    "loss_and_metrics"
   ]
  },
  {
   "cell_type": "code",
   "execution_count": 41,
   "metadata": {
    "ExecuteTime": {
     "end_time": "2020-09-10T01:19:24.549699Z",
     "start_time": "2020-09-10T01:19:23.756701Z"
    }
   },
   "outputs": [
    {
     "data": {
      "image/png": "[encoded data removed]",
      "text/plain": [
       "<Figure size 432x288 with 1 Axes>"
      ]
     },
     "metadata": {
      "needs_background": "light"
     },
     "output_type": "display_data"
    }
   ],
   "source": [
    "# epochを重ねるごとにロスが下がっていることを可視化\n",
    "# predictでXをリスト化、それぞれの予測値を可視化\n",
    "\n"
   ]
  },
  {
   "cell_type": "code",
   "execution_count": 18,
   "metadata": {
    "ExecuteTime": {
     "end_time": "2020-09-11T05:57:45.265322Z",
     "start_time": "2020-09-11T05:57:45.215092Z"
    }
   },
   "outputs": [],
   "source": [
    "predict = model_1.predict(X_test, batch_size=30)"
   ]
  },
  {
   "cell_type": "code",
   "execution_count": 19,
   "metadata": {
    "ExecuteTime": {
     "end_time": "2020-09-11T05:57:45.793433Z",
     "start_time": "2020-09-11T05:57:45.780434Z"
    }
   },
   "outputs": [
    {
     "data": {
      "text/plain": [
       "array([[1.2614853 ],\n",
       "       [0.8579835 ],\n",
       "       [0.4312822 ],\n",
       "       [0.33905712],\n",
       "       [0.26290888],\n",
       "       [0.23110092],\n",
       "       [0.2419169 ],\n",
       "       [0.17889276],\n",
       "       [0.23998079],\n",
       "       [0.20110944],\n",
       "       [0.19394955]], dtype=float32)"
      ]
     },
     "execution_count": 19,
     "metadata": {},
     "output_type": "execute_result"
    }
   ],
   "source": [
    "predict"
   ]
  },
  {
   "cell_type": "code",
   "execution_count": 20,
   "metadata": {
    "ExecuteTime": {
     "end_time": "2020-09-11T05:57:47.715574Z",
     "start_time": "2020-09-11T05:57:47.482855Z"
    }
   },
   "outputs": [
    {
     "data": {
      "text/plain": [
       "[<matplotlib.lines.Line2D at 0x1b718473b00>,\n",
       " <matplotlib.lines.Line2D at 0x1b718473c50>,\n",
       " <matplotlib.lines.Line2D at 0x1b718473da0>,\n",
       " <matplotlib.lines.Line2D at 0x1b718473ef0>,\n",
       " <matplotlib.lines.Line2D at 0x1b7035ed080>,\n",
       " <matplotlib.lines.Line2D at 0x1b7035ed1d0>,\n",
       " <matplotlib.lines.Line2D at 0x1b7035ed320>,\n",
       " <matplotlib.lines.Line2D at 0x1b7035ed470>,\n",
       " <matplotlib.lines.Line2D at 0x1b7035ed5c0>,\n",
       " <matplotlib.lines.Line2D at 0x1b7035ed710>,\n",
       " <matplotlib.lines.Line2D at 0x1b71847ed68>,\n",
       " <matplotlib.lines.Line2D at 0x1b7035ed978>,\n",
       " <matplotlib.lines.Line2D at 0x1b7035edac8>,\n",
       " <matplotlib.lines.Line2D at 0x1b7035edc18>,\n",
       " <matplotlib.lines.Line2D at 0x1b7035edd68>,\n",
       " <matplotlib.lines.Line2D at 0x1b7035edeb8>,\n",
       " <matplotlib.lines.Line2D at 0x1b7035e5048>,\n",
       " <matplotlib.lines.Line2D at 0x1b7035e5198>,\n",
       " <matplotlib.lines.Line2D at 0x1b7035e52e8>,\n",
       " <matplotlib.lines.Line2D at 0x1b7035e5438>,\n",
       " <matplotlib.lines.Line2D at 0x1b7035e5588>,\n",
       " <matplotlib.lines.Line2D at 0x1b7035e56d8>,\n",
       " <matplotlib.lines.Line2D at 0x1b7035e5828>,\n",
       " <matplotlib.lines.Line2D at 0x1b7035e5978>,\n",
       " <matplotlib.lines.Line2D at 0x1b7035e5ac8>,\n",
       " <matplotlib.lines.Line2D at 0x1b7035e5c18>,\n",
       " <matplotlib.lines.Line2D at 0x1b7035e5d68>,\n",
       " <matplotlib.lines.Line2D at 0x1b7035e5eb8>,\n",
       " <matplotlib.lines.Line2D at 0x1b7035db048>,\n",
       " <matplotlib.lines.Line2D at 0x1b7035db198>,\n",
       " <matplotlib.lines.Line2D at 0x1b7035db2e8>,\n",
       " <matplotlib.lines.Line2D at 0x1b7035db438>,\n",
       " <matplotlib.lines.Line2D at 0x1b7035db588>,\n",
       " <matplotlib.lines.Line2D at 0x1b7035db6d8>,\n",
       " <matplotlib.lines.Line2D at 0x1b7035db828>,\n",
       " <matplotlib.lines.Line2D at 0x1b7035db978>,\n",
       " <matplotlib.lines.Line2D at 0x1b7035dbac8>,\n",
       " <matplotlib.lines.Line2D at 0x1b7035dbc18>,\n",
       " <matplotlib.lines.Line2D at 0x1b7035dbd68>,\n",
       " <matplotlib.lines.Line2D at 0x1b7035dbeb8>,\n",
       " <matplotlib.lines.Line2D at 0x1b7035fd048>,\n",
       " <matplotlib.lines.Line2D at 0x1b7035fd198>,\n",
       " <matplotlib.lines.Line2D at 0x1b7035fd2e8>,\n",
       " <matplotlib.lines.Line2D at 0x1b7035fd438>,\n",
       " <matplotlib.lines.Line2D at 0x1b7035fd588>,\n",
       " <matplotlib.lines.Line2D at 0x1b7035fd6d8>,\n",
       " <matplotlib.lines.Line2D at 0x1b7035fd828>,\n",
       " <matplotlib.lines.Line2D at 0x1b7035fd978>,\n",
       " <matplotlib.lines.Line2D at 0x1b7035fdac8>,\n",
       " <matplotlib.lines.Line2D at 0x1b7035fdc18>,\n",
       " <matplotlib.lines.Line2D at 0x1b7035fdd68>,\n",
       " <matplotlib.lines.Line2D at 0x1b7035fdeb8>,\n",
       " <matplotlib.lines.Line2D at 0x1b7137ff048>,\n",
       " <matplotlib.lines.Line2D at 0x1b7137ff198>,\n",
       " <matplotlib.lines.Line2D at 0x1b7137ff2e8>,\n",
       " <matplotlib.lines.Line2D at 0x1b7137ff438>,\n",
       " <matplotlib.lines.Line2D at 0x1b7137ff588>,\n",
       " <matplotlib.lines.Line2D at 0x1b7137ff6d8>,\n",
       " <matplotlib.lines.Line2D at 0x1b7137ff828>,\n",
       " <matplotlib.lines.Line2D at 0x1b7137ff978>,\n",
       " <matplotlib.lines.Line2D at 0x1b7137ffac8>,\n",
       " <matplotlib.lines.Line2D at 0x1b7137ffc18>,\n",
       " <matplotlib.lines.Line2D at 0x1b7137ffd68>,\n",
       " <matplotlib.lines.Line2D at 0x1b7137ffeb8>,\n",
       " <matplotlib.lines.Line2D at 0x1b7137fc048>,\n",
       " <matplotlib.lines.Line2D at 0x1b7137fc198>,\n",
       " <matplotlib.lines.Line2D at 0x1b7137fc2e8>,\n",
       " <matplotlib.lines.Line2D at 0x1b7137fc438>,\n",
       " <matplotlib.lines.Line2D at 0x1b7137fc588>,\n",
       " <matplotlib.lines.Line2D at 0x1b7137fc6d8>,\n",
       " <matplotlib.lines.Line2D at 0x1b7137fc828>,\n",
       " <matplotlib.lines.Line2D at 0x1b7137fc978>,\n",
       " <matplotlib.lines.Line2D at 0x1b7137fcac8>,\n",
       " <matplotlib.lines.Line2D at 0x1b7137fcc18>,\n",
       " <matplotlib.lines.Line2D at 0x1b7137fcd68>,\n",
       " <matplotlib.lines.Line2D at 0x1b7137fceb8>,\n",
       " <matplotlib.lines.Line2D at 0x1b7137f3048>,\n",
       " <matplotlib.lines.Line2D at 0x1b7137f3198>,\n",
       " <matplotlib.lines.Line2D at 0x1b7137f32e8>,\n",
       " <matplotlib.lines.Line2D at 0x1b7137f3438>,\n",
       " <matplotlib.lines.Line2D at 0x1b7137f3588>,\n",
       " <matplotlib.lines.Line2D at 0x1b7137f36d8>,\n",
       " <matplotlib.lines.Line2D at 0x1b7137f3828>,\n",
       " <matplotlib.lines.Line2D at 0x1b7137f3978>,\n",
       " <matplotlib.lines.Line2D at 0x1b7137f3ac8>,\n",
       " <matplotlib.lines.Line2D at 0x1b7137f3c18>,\n",
       " <matplotlib.lines.Line2D at 0x1b7137f3d68>,\n",
       " <matplotlib.lines.Line2D at 0x1b7137f3eb8>,\n",
       " <matplotlib.lines.Line2D at 0x1b7137f0048>,\n",
       " <matplotlib.lines.Line2D at 0x1b7137f0198>,\n",
       " <matplotlib.lines.Line2D at 0x1b7137f02e8>,\n",
       " <matplotlib.lines.Line2D at 0x1b7137f0438>,\n",
       " <matplotlib.lines.Line2D at 0x1b7137f0588>,\n",
       " <matplotlib.lines.Line2D at 0x1b7137f06d8>,\n",
       " <matplotlib.lines.Line2D at 0x1b7137f0828>,\n",
       " <matplotlib.lines.Line2D at 0x1b7137f0978>,\n",
       " <matplotlib.lines.Line2D at 0x1b7137f0ac8>,\n",
       " <matplotlib.lines.Line2D at 0x1b7137f0c18>,\n",
       " <matplotlib.lines.Line2D at 0x1b7137f0d68>,\n",
       " <matplotlib.lines.Line2D at 0x1b7137f0eb8>]"
      ]
     },
     "execution_count": 20,
     "metadata": {},
     "output_type": "execute_result"
    },
    {
     "data": {
      "image/png": "[encoded data removed]",
      "text/plain": [
       "<Figure size 432x288 with 1 Axes>"
      ]
     },
     "metadata": {
      "needs_background": "light"
     },
     "output_type": "display_data"
    }
   ],
   "source": [
    "plt.plot(X_test, predict)"
   ]
  },
  {
   "cell_type": "code",
   "execution_count": 23,
   "metadata": {
    "ExecuteTime": {
     "end_time": "2020-09-11T06:01:33.219868Z",
     "start_time": "2020-09-11T06:01:19.252421Z"
    }
   },
   "outputs": [
    {
     "name": "stdout",
     "output_type": "stream",
     "text": [
      "Epoch 1/50\n",
      "40/40 [==============================] - 1s 29ms/step - loss: 1.8194 - mean_absolute_error: 1.2302\n",
      "Epoch 2/50\n",
      "40/40 [==============================] - 0s 11ms/step - loss: 1.8143 - mean_absolute_error: 1.2274\n",
      "Epoch 3/50\n",
      "40/40 [==============================] - 0s 10ms/step - loss: 1.8093 - mean_absolute_error: 1.2276\n",
      "Epoch 4/50\n",
      "40/40 [==============================] - 0s 10ms/step - loss: 1.7705 - mean_absolute_error: 1.2135\n",
      "Epoch 5/50\n",
      "40/40 [==============================] - 0s 11ms/step - loss: 1.6745 - mean_absolute_error: 1.1829\n",
      "Epoch 6/50\n",
      "40/40 [==============================] - 0s 10ms/step - loss: 1.6906 - mean_absolute_error: 1.1869\n",
      "Epoch 7/50\n",
      "40/40 [==============================] - 0s 11ms/step - loss: 1.6319 - mean_absolute_error: 1.1705\n",
      "Epoch 8/50\n",
      "40/40 [==============================] - 0s 10ms/step - loss: 1.5549 - mean_absolute_error: 1.1391\n",
      "Epoch 9/50\n",
      "40/40 [==============================] - 0s 11ms/step - loss: 1.5400 - mean_absolute_error: 1.1350\n",
      "Epoch 10/50\n",
      "40/40 [==============================] - 0s 11ms/step - loss: 1.5919 - mean_absolute_error: 1.1511\n",
      "Epoch 11/50\n",
      "40/40 [==============================] - 0s 11ms/step - loss: 1.6114 - mean_absolute_error: 1.1548\n",
      "Epoch 12/50\n",
      "40/40 [==============================] - 0s 11ms/step - loss: 1.5178 - mean_absolute_error: 1.1272\n",
      "Epoch 13/50\n",
      "40/40 [==============================] - 0s 11ms/step - loss: 1.4802 - mean_absolute_error: 1.1112\n",
      "Epoch 14/50\n",
      "40/40 [==============================] - 0s 11ms/step - loss: 1.6090 - mean_absolute_error: 1.1611\n",
      "Epoch 15/50\n",
      "40/40 [=====================>........] - ETA: 0s - loss: 1.5174 - mean_absolute_error: 1.134"
     ]
    },
    {
     "data": {
      "text/html": [
       "<b>limit_output extension: Maximum message size of 10000 exceeded with 10086 characters</b>"
      ]
     },
     "metadata": {},
     "output_type": "display_data"
    }
   ],
   "source": [
    "model_2.fit(X_train[:,:,np.newaxis], y_train, batch_size=10, epochs=50, callbacks=[earlystopping])"
   ]
  },
  {
   "cell_type": "code",
   "execution_count": 24,
   "metadata": {
    "ExecuteTime": {
     "end_time": "2020-09-11T06:01:54.324006Z",
     "start_time": "2020-09-11T06:01:54.139310Z"
    }
   },
   "outputs": [
    {
     "data": {
      "image/png": "[encoded data removed]",
      "text/plain": [
       "<Figure size 432x288 with 1 Axes>"
      ]
     },
     "metadata": {
      "needs_background": "light"
     },
     "output_type": "display_data"
    }
   ],
   "source": [
    "predicted = model_1.predict(X_test)\n",
    "result = pd.DataFrame(predicted)\n",
    "result.columns = ['predict']\n",
    "result['actual'] = y_test\n",
    "result.plot()\n",
    "plt.show()"
   ]
  },
  {
   "cell_type": "code",
   "execution_count": 25,
   "metadata": {
    "ExecuteTime": {
     "end_time": "2020-09-11T06:02:09.559892Z",
     "start_time": "2020-09-11T06:02:09.233886Z"
    }
   },
   "outputs": [
    {
     "data": {
      "image/png": "[encoded data removed]",
      "text/plain": [
       "<Figure size 432x288 with 1 Axes>"
      ]
     },
     "metadata": {
      "needs_background": "light"
     },
     "output_type": "display_data"
    }
   ],
   "source": [
    "predicted = model_2.predict(X_test[:,:,np.newaxis])\n",
    "result = pd.DataFrame(predicted)\n",
    "result.columns = ['predict']\n",
    "result['actual'] = y_test\n",
    "result.plot()\n",
    "plt.show()"
   ]
  },
  {
   "cell_type": "code",
   "execution_count": 26,
   "metadata": {
    "ExecuteTime": {
     "end_time": "2020-09-11T06:02:46.855542Z",
     "start_time": "2020-09-11T06:02:46.845544Z"
    }
   },
   "outputs": [],
   "source": [
    "def updown(actual, predict):\n",
    " act = np.sign(np.diff(actual))\n",
    " pre = np.sign(np.diff(predict[:,0]))\n",
    " tmp =  act*pre>0\n",
    " return np.sum(tmp)/len(tmp)"
   ]
  },
  {
   "cell_type": "code",
   "execution_count": 27,
   "metadata": {
    "ExecuteTime": {
     "end_time": "2020-09-11T06:02:56.661539Z",
     "start_time": "2020-09-11T06:02:56.585540Z"
    }
   },
   "outputs": [
    {
     "name": "stdout",
     "output_type": "stream",
     "text": [
      "model_1: 0.4\n",
      "model_2: 0.4\n"
     ]
    }
   ],
   "source": [
    "print('model_1:',updown(y_test, model_1.predict(X_test)))\n",
    "print('model_2:',updown(y_test, model_2.predict(X_test[:,:,np.newaxis])))"
   ]
  },
  {
   "cell_type": "code",
   "execution_count": 28,
   "metadata": {
    "ExecuteTime": {
     "end_time": "2020-09-11T10:55:01.342384Z",
     "start_time": "2020-09-11T10:55:00.881440Z"
    }
   },
   "outputs": [
    {
     "ename": "ModuleNotFoundError",
     "evalue": "No module named 'chainer'",
     "output_type": "error",
     "traceback": [
      "\u001b[1;31m---------------------------------------------------------------------------\u001b[0m",
      "\u001b[1;31mModuleNotFoundError\u001b[0m                       Traceback (most recent call last)",
      "\u001b[1;32m<ipython-input-28-ea3952713938>\u001b[0m in \u001b[0;36m<module>\u001b[1;34m\u001b[0m\n\u001b[0;32m      2\u001b[0m \u001b[1;32mimport\u001b[0m \u001b[0mnumpy\u001b[0m \u001b[1;32mas\u001b[0m \u001b[0mnp\u001b[0m\u001b[1;33m\u001b[0m\u001b[0m\n\u001b[0;32m      3\u001b[0m \u001b[1;32mimport\u001b[0m \u001b[0mmatplotlib\u001b[0m\u001b[1;33m.\u001b[0m\u001b[0mpylab\u001b[0m \u001b[1;32mas\u001b[0m \u001b[0mplt\u001b[0m\u001b[1;33m\u001b[0m\u001b[0m\n\u001b[1;32m----> 4\u001b[1;33m \u001b[1;32mfrom\u001b[0m \u001b[0mchainer\u001b[0m \u001b[1;32mimport\u001b[0m \u001b[0mChain\u001b[0m\u001b[1;33m,\u001b[0m \u001b[0mVariable\u001b[0m\u001b[1;33m,\u001b[0m \u001b[0mcuda\u001b[0m\u001b[1;33m,\u001b[0m \u001b[0moptimizer\u001b[0m\u001b[1;33m,\u001b[0m \u001b[0moptimizers\u001b[0m\u001b[1;33m,\u001b[0m \u001b[0mserializers\u001b[0m\u001b[1;33m\u001b[0m\u001b[0m\n\u001b[0m\u001b[0;32m      5\u001b[0m \u001b[1;32mimport\u001b[0m \u001b[0mchainer\u001b[0m\u001b[1;33m.\u001b[0m\u001b[0mfunctions\u001b[0m \u001b[1;32mas\u001b[0m \u001b[0mF\u001b[0m\u001b[1;33m\u001b[0m\u001b[0m\n\u001b[0;32m      6\u001b[0m \u001b[1;32mimport\u001b[0m \u001b[0mchainer\u001b[0m\u001b[1;33m.\u001b[0m\u001b[0mlinks\u001b[0m \u001b[1;32mas\u001b[0m \u001b[0mL\u001b[0m\u001b[1;33m\u001b[0m\u001b[0m\n",
      "\u001b[1;31mModuleNotFoundError\u001b[0m: No module named 'chainer'"
     ]
    }
   ],
   "source": [
    "## https://www.macrotrends.net/2593/nikkei-225-index-historical-chart-data\n",
    "import datetime\n",
    "import numpy as np\n",
    "import matplotlib.pylab as plt\n",
    "from chainer import Chain, Variable, cuda, optimizer, optimizers, serializers\n",
    "import chainer.functions as F\n",
    "import chainer.links as L\n",
    "import pandas as pd\n",
    "\n",
    "\n",
    "# モデルクラス定義\n",
    " \n",
    "class LSTM(Chain):\n",
    "    def __init__(self, in_size, hidden_size, out_size):\n",
    "        super(LSTM, self).__init__(\n",
    "            xh = L.Linear(in_size, hidden_size),\n",
    "            hh = L.LSTM(hidden_size, hidden_size),\n",
    "            hy = L.Linear(hidden_size, out_size)\n",
    "        )\n",
    " \n",
    "    def __call__(self, x, t=None, train=False):\n",
    "        x = Variable(x)\n",
    "        if train:\n",
    "            t = Variable(t)\n",
    "        h = self.xh(x)\n",
    "        h = self.hh(h)\n",
    "        y = self.hy(h)\n",
    "        if train:\n",
    "            return F.mean_squared_error(y, t)\n",
    "        else:\n",
    "            return y.data\n",
    " \n",
    "    def reset(self):\n",
    "        self.zerograds()\n",
    "        self.hh.reset_state()\n",
    "\n",
    "EPOCH_NUM = 1000\n",
    "IN_SIZE=1\n",
    "HIDDEN_SIZE = 60\n",
    "OUT_SIZE=1\n",
    "BATCH_NUM = 10 # 分割したデータをいくつミニバッチに取り込むか\n",
    "BATCH_SIZE = 60 # ミニバッチで分割する時系列数\n",
    "\n",
    "\n",
    "# 学習\n",
    "def Training(str=\"\",wait_load=False):\n",
    "    print(\"\\nTraining\\n\")\n",
    "    \n",
    "    # 教師データ\n",
    "    df = pd.read_csv('nikkei-225-index-historical-chart-data.csv',header=8)\n",
    "    mat = df.query('date.str.match('+str+')', engine='python')\n",
    "    train_data_t = mat[' value'].values\n",
    "    print(train_data_t)\n",
    "    \n",
    "    train_data = np.arange(len(train_data_t), dtype=\"float32\");\n",
    "    \n",
    "    # 微分(偏差)データに変換\n",
    "    for i in range(len(train_data_t)-1):\n",
    "        train_data[i] = train_data_t[i+1]-train_data_t[i]\n",
    "    \n",
    "    # 正規化用ゲイン\n",
    "    gain = np.max(train_data)-np.min(train_data)\n",
    "    gain = gain/2\n",
    "    \n",
    "    train_data = train_data/gain\t# ±1.0以内に\n",
    "    \n",
    "    # 入力データと教師データを作成\n",
    "    train_x, train_t = [], []\n",
    "    for i in range(len(train_data)-1):\n",
    "        train_x.append(train_data[i])\n",
    "        train_t.append(train_data[i+1])\n",
    "    train_x = np.array(train_x, dtype=\"float32\")\n",
    "    train_t = np.array(train_t, dtype=\"float32\")\n",
    "    Num = len(train_x)\n",
    "     \n",
    "    # モデル定義\n",
    "    model = LSTM(in_size=IN_SIZE, hidden_size=HIDDEN_SIZE, out_size=OUT_SIZE)\n",
    "    optimizer = optimizers.Adam()\n",
    "    optimizer.setup(model)\n",
    "     \n",
    "    if wait_load:\n",
    "        serializers.load_npz(\"mymodel.npz\", model)\n",
    "    \n",
    "    # 学習開始\n",
    "    print(\"Train\")\n",
    "    st = datetime.datetime.now()\t# 100エポック時間計測用に記録\n",
    "    for epoch in range(EPOCH_NUM):\n",
    "     \n",
    "        # ミニバッチ学習\n",
    "        x, t = [], []\n",
    "        for i in range(BATCH_NUM):\n",
    "            # ランダムな箇所、ただしBATCH_SIZE分だけ抜き取れる場所から選ぶ\n",
    "            # (indexの末端がBATCH_SIZEを超えない部分でリミットを掛ける)\n",
    "            index = np.random.randint(0, Num-BATCH_SIZE+1) \n",
    "            x.append(train_x[index:index+BATCH_SIZE]) # BATCH_SIZE分の入力データを取り出す\n",
    "            t.append(train_t[index:index+BATCH_SIZE]) # BATCH_SIZE分の教師データを取り出す\n",
    "        \n",
    "        # NumPy配列に変換\n",
    "        x = np.array(x, dtype=\"float32\")\n",
    "        t = np.array(t, dtype=\"float32\")\n",
    "        loss = 0\n",
    "        total_loss = 0\n",
    "        model.reset() \n",
    "        for i in range(BATCH_SIZE): # 各時刻おきにBATCH_NUMごと読み込んで損失を計算する\n",
    "            x_ = np.array([x[j, i] for j in range(BATCH_NUM)], dtype=\"float32\")[:, np.newaxis] # 時刻iの入力値\n",
    "            t_ = np.array([t[j, i] for j in range(BATCH_NUM)], dtype=\"float32\")[:, np.newaxis] # 時刻i+1の値（＝正解の予測値）\n",
    "            loss += model(x=x_, t=t_, train=True) # 誤差合計\n",
    "        loss.backward() # 誤差逆伝播\n",
    "        loss.unchain_backward() \n",
    "        total_loss += loss.data\n",
    "        optimizer.update()\n",
    "        if (epoch+1) % 100 == 0:\n",
    "            # 100エポック毎に誤差と学習時間を表示\n",
    "            ed = datetime.datetime.now()\n",
    "            print(\"epoch:\\t{}\\ttotal loss:\\t{}\\ttime:\\t{}\".format(epoch+1, total_loss, ed-st))\n",
    "            st = datetime.datetime.now()\t# 100エポック時間計測用に記録\n",
    "     \n",
    "    serializers.save_npz(\"mymodel.npz\", model) # npz形式で書き出し\n",
    "     \n",
    "# 予測能力評価\n",
    "def Predict(str):\n",
    "    print(\"\\nPredict\")\n",
    "    # モデルの定義\n",
    "    model = LSTM(in_size=IN_SIZE, hidden_size=HIDDEN_SIZE, out_size=OUT_SIZE)\n",
    "    \n",
    "    # 重みロード\n",
    "    serializers.load_npz(\"mymodel.npz\", model)\n",
    "    \n",
    "    # 予測元データロード\n",
    "    df = pd.read_csv('nikkei-225-index-historical-chart-data.csv',header=8)\n",
    "    mat = df.query('date.str.match('+str+')', engine='python')\n",
    "    train_data_t = mat[' value'].values\n",
    "    \n",
    "    train_data = np.arange(len(train_data_t), dtype=\"float32\");\n",
    "    \n",
    "    print(train_data_t)\n",
    "    \n",
    "    # 偏差算出(微分)\n",
    "    for i in range(len(train_data_t)-1):\n",
    "        train_data[i] = train_data_t[i+1]-train_data_t[i]\n",
    "    \n",
    "    # 正規化用ゲイン\n",
    "    gain = np.max(train_data)-np.min(train_data)\n",
    "    gain = gain/2\n",
    "    \n",
    "    train_data = train_data/gain\t# ±1.0以内に\n",
    "    Num = len(train_data)-1\n",
    "    \n",
    "    print(train_data)\n",
    "    \n",
    "    predict = np.empty(0) # 予測値格納用\n",
    "    predict_size = 30     # 予測サイズ\n",
    "    predata_size = len(train_data)-predict_size # 予測直前までのデータ数\n",
    "    indata = train_data[1:predata_size] # 予測直前までのデータ\n",
    "    for _ in range(predata_size):\n",
    "        model.reset()\n",
    "        for i in indata: # モデルに予測直前までの時系列を読み込ませる\n",
    "            x = np.array([[i]], dtype=\"float32\")\n",
    "            y = model(x=x, train=False)\n",
    "        predict = np.append(predict, y) # 最後の予測値を記録\n",
    "        # モデルに読み込ませる予測直前時系列を予測値で更新する\n",
    "        indata = np.delete(indata, 0)\n",
    "        indata = np.append(indata, y)\n",
    "    \n",
    "    plt.plot(range(Num+1), train_data, color=\"red\", label=\"t\")\n",
    "    plt.plot(range(predata_size, predata_size+predict_size-1), predict[0:predict_size-1], \"--.\", label=\"y\")\n",
    "    plt.legend(loc=\"upper left\")\n",
    "    plt.show()\n",
    "\n",
    "    predict = predict * gain\t# 元データと同じ割合で予測値を拡大\n",
    "    ipredict = np.arange(len(predict)+1, dtype=\"float32\")\n",
    "    predict_tmp = train_data_t[predata_size]; # 初期値(積分定数)\n",
    "    ipredict[0]=predict_tmp\n",
    "    # 積分\n",
    "    for i in range(len(predict)):\n",
    "        predict_tmp = predict_tmp + predict[i]\n",
    "        ipredict[i+1] = predict_tmp\n",
    "    \n",
    "    plt.plot(range(Num+1), train_data_t, color=\"red\", label=\"t\")\n",
    "    plt.plot(range(predata_size, predata_size+predict_size-1), ipredict[0:predict_size-1], \"--.\", label=\"y\")\n",
    "    plt.show()\n",
    "\n",
    "# 本当に将来を予測\n",
    "def Predict2(str=\"\",tail=90):\n",
    "    print(\"\\nPredict2\")\n",
    "    # モデルの定義\n",
    "    model = LSTM(in_size=IN_SIZE, hidden_size=HIDDEN_SIZE, out_size=OUT_SIZE)\n",
    "    \n",
    "    # 重みロード\n",
    "    serializers.load_npz(\"mymodel.npz\", model)\n",
    "    \n",
    "    # 予測元データロード\n",
    "    df = pd.read_csv('nikkei-225-index-historical-chart-data.csv',header=8)\n",
    "    \n",
    "    if not str:\n",
    "        # 空文字列の場合は貯金tail日分のデータを使用\n",
    "        mat = df.tail(tail)\n",
    "    else:\n",
    "        # strを正規表現としてデータ抽出\n",
    "        mat = df.query('date.str.match('+str+')', engine='python')\n",
    "    \n",
    "    train_data_t = mat[' value'].values\n",
    "    \n",
    "    train_data = np.arange(len(train_data_t), dtype=\"float32\");\n",
    "    \n",
    "    \n",
    "    for i in range(len(train_data_t)-1):\n",
    "        train_data[i] = train_data_t[i+1]-train_data_t[i]\n",
    "    \n",
    "    gain = np.max(train_data)-np.min(train_data)\n",
    "    gain = gain/2\n",
    "    \n",
    "    train_data = train_data/gain\n",
    "    Num = len(train_data)-1\n",
    "    \n",
    "    print(train_data)\n",
    "    \n",
    "    predict = np.empty(0) # 予測値格納用\n",
    "    predict_size = 30     # 予測サイズ\n",
    "    indata = train_data # 予測直前までの時系列\n",
    "    for _ in range(predict_size):\n",
    "        model.reset() # メモリを初期化\n",
    "        for i in indata: # モデルに予測直前までのデータを読み込ませる\n",
    "            x = np.array([[i]], dtype=\"float32\")\n",
    "            y = model(x=x, train=False)\n",
    "        predict = np.append(predict, y) # 最後の予測値を記録\n",
    "        # モデルに読み込ませる予測直前データを予測値で更新する\n",
    "        indata = np.delete(indata, 0)\n",
    "        indata = np.append(indata, y)\n",
    "    \n",
    "    plt.plot(range(Num+1), train_data, color=\"red\", label=\"t\")\n",
    "    plt.plot(range(Num, Num+predict_size), predict[0:predict_size], \"--.\", label=\"y\")\n",
    "    plt.legend(loc=\"upper left\")\n",
    "    plt.show()\n",
    "\n",
    "    predict = predict * gain\n",
    "    ipredict = np.arange(len(predict)+1, dtype=\"float32\")\n",
    "    predict_tmp = train_data_t[Num];\n",
    "    ipredict[0]=predict_tmp\n",
    "    # 積分\n",
    "    for i in range(len(predict)):\n",
    "        predict_tmp = predict_tmp + predict[i]\n",
    "        ipredict[i+1] = predict_tmp\n",
    "    \n",
    "    plt.plot(range(Num+1), train_data_t, color=\"red\", label=\"t\")\n",
    "    plt.plot(range(Num, Num+predict_size), ipredict[0:predict_size], \"--.\", label=\"y\")\n",
    "    plt.show()\n",
    "\n",
    "Training(str=\"\\\"^(2019-)\\\"\",wait_load=False)\n",
    "Predict(str=\"\\\"^2019-((01)|(02)|(03)|(04))\\\"\")\t# 訓練データ内で予測\n",
    "Predict(str=\"\\\"^2019-((04)|(05)|(06)|(07))\\\"\")\t# 訓練データ内で予測\n",
    "Predict(str=\"\\\"^2019-((07)|(08)|(09)|(10))\\\"\")\t# 訓練データ内で予測\n",
    "Predict(str=\"\\\"^2019-((09)|(10)|(11)|(12))\\\"\")\t# 訓練データ内で予測\n",
    "Predict(str=\"\\\"^2020-((01)|(02)|(03)|(04))\\\"\")\t# 訓練データ外(テストデータ)で予測\n",
    "#Predict2()\t\t#本当に未来を予測"
   ]
  },
  {
   "cell_type": "code",
   "execution_count": null,
   "metadata": {},
   "outputs": [],
   "source": []
  }
 ],
 "metadata": {
  "hide_input": false,
  "kernelspec": {
   "display_name": "Python 3.6.5 64-bit ('tensorflow': conda)",
   "language": "python",
   "name": "python36564bittensorflowcondae87cbdb7653c498b925613e854c28343"
  },
  "language_info": {
   "codemirror_mode": {
    "name": "ipython",
    "version": 3
   },
   "file_extension": ".py",
   "mimetype": "text/x-python",
   "name": "python",
   "nbconvert_exporter": "python",
   "pygments_lexer": "ipython3",
   "version": "3.6.5"
  },
  "latex_envs": {
   "LaTeX_envs_menu_present": true,
   "autoclose": false,
   "autocomplete": true,
   "bibliofile": "biblio.bib",
   "cite_by": "apalike",
   "current_citInitial": 1,
   "eqLabelWithNumbers": true,
   "eqNumInitial": 1,
   "hotkeys": {
    "equation": "Ctrl-E",
    "itemize": "Ctrl-I"
   },
   "labels_anchors": false,
   "latex_user_defs": false,
   "report_style_numbering": false,
   "user_envs_cfg": false
  },
  "nbTranslate": {
   "displayLangs": [
    "*"
   ],
   "hotkey": "alt-t",
   "langInMainMenu": true,
   "sourceLang": "en",
   "targetLang": "fr",
   "useGoogleTranslate": true
  },
  "toc": {
   "base_numbering": 1,
   "nav_menu": {},
   "number_sections": true,
   "sideBar": true,
   "skip_h1_title": false,
   "title_cell": "Table of Contents",
   "title_sidebar": "Contents",
   "toc_cell": false,
   "toc_position": {},
   "toc_section_display": true,
   "toc_window_display": false
  },
  "varInspector": {
   "cols": {
    "lenName": 16,
    "lenType": 16,
    "lenVar": 40
   },
   "kernels_config": {
    "python": {
     "delete_cmd_postfix": "",
     "delete_cmd_prefix": "del ",
     "library": "var_list.py",
     "varRefreshCmd": "print(var_dic_list())"
    },
    "r": {
     "delete_cmd_postfix": ") ",
     "delete_cmd_prefix": "rm(",
     "library": "var_list.r",
     "varRefreshCmd": "cat(var_dic_list()) "
    }
   },
   "types_to_exclude": [
    "module",
    "function",
    "builtin_function_or_method",
    "instance",
    "_Feature"
   ],
   "window_display": false
  }
 },
 "nbformat": 4,
 "nbformat_minor": 4
}
