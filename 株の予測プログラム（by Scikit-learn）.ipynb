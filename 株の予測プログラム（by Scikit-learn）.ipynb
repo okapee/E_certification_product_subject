{
 "cells": [
  {
   "cell_type": "code",
   "execution_count": 40,
   "metadata": {
    "ExecuteTime": {
     "end_time": "2020-09-12T01:38:54.647112Z",
     "start_time": "2020-09-12T01:38:54.620111Z"
    }
   },
   "outputs": [
    {
     "name": "stdout",
     "output_type": "stream",
     "text": [
      "             日付     始値     高値     安値     終値     出来高  終値調整値\n",
      "0    2020-01-06  24000  24050  23860  23910  568225  23910\n",
      "1    2020-01-07  24030  24300  24010  24300  170307  24300\n",
      "2    2020-01-08  23900  24020  23650  23930  396435  23930\n",
      "3    2020-01-09  24270  24500  24260  24440  188019  24440\n",
      "4    2020-01-10  24500  24620  24480  24580  113641  24580\n",
      "..          ...    ...    ...    ...    ...     ...    ...\n",
      "148  2020-08-20  23550  23630  23390  23430  197557  23430\n",
      "149  2020-08-21  23570  23690  23460  23510  187607  23510\n",
      "150  2020-08-24  23480  23560  23390  23530  127407  23530\n",
      "151  2020-08-25  23810  23990  23780  23830  450946  23830\n",
      "152  2020-08-26  23810  23900  23760  23820  204253  23820\n",
      "\n",
      "[153 rows x 7 columns]\n"
     ]
    }
   ],
   "source": [
    "# サポートベクターマシーンのimport\n",
    "from sklearn import svm\n",
    "# train_test_splitのimport\n",
    "from sklearn.model_selection import train_test_split\n",
    "# accuracy_scoreのimport\n",
    "from sklearn.metrics import accuracy_score\n",
    "# Pandasのimport\n",
    "import pandas as pd\n",
    " \n",
    "# 株価データの読み込み\n",
    "stock_data = pd.read_csv(\"stock_price.csv\", encoding=\"shift-jis\", skiprows=1)\n",
    "print(stock_data)"
   ]
  },
  {
   "cell_type": "code",
   "execution_count": 41,
   "metadata": {
    "ExecuteTime": {
     "end_time": "2020-09-12T01:39:03.762232Z",
     "start_time": "2020-09-12T01:39:03.756226Z"
    }
   },
   "outputs": [
    {
     "data": {
      "text/plain": [
       "Index(['日付', '始値', '高値', '安値', '終値', '出来高', '終値調整値'], dtype='object')"
      ]
     },
     "execution_count": 41,
     "metadata": {},
     "output_type": "execute_result"
    }
   ],
   "source": [
    "stock_data.columns"
   ]
  },
  {
   "cell_type": "code",
   "execution_count": 35,
   "metadata": {
    "ExecuteTime": {
     "end_time": "2020-09-12T01:30:11.673592Z",
     "start_time": "2020-09-12T01:30:11.652590Z"
    }
   },
   "outputs": [
    {
     "data": {
      "text/plain": [
       "pandas.core.indexes.base.Index"
      ]
     },
     "execution_count": 35,
     "metadata": {},
     "output_type": "execute_result"
    }
   ],
   "source": [
    "type(stock_data.columns)"
   ]
  },
  {
   "cell_type": "code",
   "execution_count": 42,
   "metadata": {
    "ExecuteTime": {
     "end_time": "2020-09-12T01:39:25.299049Z",
     "start_time": "2020-09-12T01:39:25.279042Z"
    }
   },
   "outputs": [
    {
     "name": "stdout",
     "output_type": "stream",
     "text": [
      "RangeIndex(start=0, stop=153, step=1)\n",
      "Index(['日付', '始値', '高値', '安値', '終値', '出来高', '終値調整値'], dtype='object')\n"
     ]
    }
   ],
   "source": [
    "print(stock_data.index)\n",
    "print(stock_data.columns)"
   ]
  },
  {
   "cell_type": "code",
   "execution_count": 43,
   "metadata": {
    "ExecuteTime": {
     "end_time": "2020-09-12T01:39:40.741943Z",
     "start_time": "2020-09-12T01:39:40.217943Z"
    }
   },
   "outputs": [
    {
     "name": "stdout",
     "output_type": "stream",
     "text": [
      "トレーニングデータに対する正解率：53.38983050847458%\n",
      "テストデータに対する正解率：43.333333333333336%\n"
     ]
    }
   ],
   "source": [
    "# 要素数の設定\n",
    "count_s = len(stock_data)\n",
    " \n",
    "# 株価の上昇率を算出、おおよそ-1.0～1.0の範囲に収まるように調整\n",
    "modified_data = []\n",
    "for i in range(1,count_s):\n",
    "    modified_data.append(float(stock_data.loc[i,['終値']] - stock_data.loc[i-1,['終値']])/float(stock_data.loc[i-1,['終値']])*20)\n",
    "# 要素数の設定\n",
    "count_m = len(modified_data)\n",
    " \n",
    "# 過去４日分の上昇率のデータを格納するリスト\n",
    "successive_data = []\n",
    " \n",
    "# 正解値を格納するリスト　価格上昇: 1 価格低下:0\n",
    "answers = []\n",
    " \n",
    "#  連続の上昇率のデータを格納していく\n",
    "for i in range(4, count_m):\n",
    "    successive_data.append([modified_data[i-4],modified_data[i-3],modified_data[i-2],modified_data[i-1]])\n",
    "    # 上昇率が0以上なら1、そうでないなら0を格納\n",
    "    if modified_data[i] > 0:\n",
    "        answers.append(1)\n",
    "    else:\n",
    "        answers.append(0)\n",
    " \n",
    "# データの分割（データの80%を訓練用に、20％をテスト用に分割する）\n",
    "X_train, X_test, y_train, y_test =train_test_split(successive_data, answers, train_size=0.8,test_size=0.2,random_state=1)\n",
    " \n",
    "# サポートベクターマシーン\n",
    "clf = svm.LinearSVC()\n",
    "# サポートベクターマシーンによる訓練\n",
    "clf.fit(X_train , y_train)\n",
    " \n",
    "# 学習後のモデルによるテスト\n",
    "# トレーニングデータを用いた予測\n",
    "y_train_pred = clf.predict(X_train)\n",
    "# テストデータを用いた予測\n",
    "y_val_pred = clf.predict(X_test)\n",
    " \n",
    "# 正解率の計算\n",
    "train_score = accuracy_score(y_train, y_train_pred)\n",
    "test_score = accuracy_score(y_test, y_val_pred)\n",
    " \n",
    "# 正解率を表示\n",
    "print(\"トレーニングデータに対する正解率：\" + str(train_score * 100) + \"%\")\n",
    "print(\"テストデータに対する正解率：\" + str(test_score * 100) + \"%\")"
   ]
  },
  {
   "cell_type": "code",
   "execution_count": null,
   "metadata": {},
   "outputs": [],
   "source": []
  }
 ],
 "metadata": {
  "hide_input": false,
  "kernelspec": {
   "display_name": "Python 3.7.4 64-bit ('base': conda)",
   "language": "python",
   "name": "python37464bitbasecondac6ce945f114c44fe958cfac11bacec23"
  },
  "language_info": {
   "codemirror_mode": {
    "name": "ipython",
    "version": 3
   },
   "file_extension": ".py",
   "mimetype": "text/x-python",
   "name": "python",
   "nbconvert_exporter": "python",
   "pygments_lexer": "ipython3",
   "version": "3.7.4"
  },
  "latex_envs": {
   "LaTeX_envs_menu_present": true,
   "autoclose": false,
   "autocomplete": true,
   "bibliofile": "biblio.bib",
   "cite_by": "apalike",
   "current_citInitial": 1,
   "eqLabelWithNumbers": true,
   "eqNumInitial": 1,
   "hotkeys": {
    "equation": "Ctrl-E",
    "itemize": "Ctrl-I"
   },
   "labels_anchors": false,
   "latex_user_defs": false,
   "report_style_numbering": false,
   "user_envs_cfg": false
  },
  "nbTranslate": {
   "displayLangs": [
    "*"
   ],
   "hotkey": "alt-t",
   "langInMainMenu": true,
   "sourceLang": "en",
   "targetLang": "fr",
   "useGoogleTranslate": true
  },
  "toc": {
   "base_numbering": 1,
   "nav_menu": {},
   "number_sections": true,
   "sideBar": true,
   "skip_h1_title": false,
   "title_cell": "Table of Contents",
   "title_sidebar": "Contents",
   "toc_cell": false,
   "toc_position": {},
   "toc_section_display": true,
   "toc_window_display": false
  },
  "varInspector": {
   "cols": {
    "lenName": 16,
    "lenType": 16,
    "lenVar": 40
   },
   "kernels_config": {
    "python": {
     "delete_cmd_postfix": "",
     "delete_cmd_prefix": "del ",
     "library": "var_list.py",
     "varRefreshCmd": "print(var_dic_list())"
    },
    "r": {
     "delete_cmd_postfix": ") ",
     "delete_cmd_prefix": "rm(",
     "library": "var_list.r",
     "varRefreshCmd": "cat(var_dic_list()) "
    }
   },
   "types_to_exclude": [
    "module",
    "function",
    "builtin_function_or_method",
    "instance",
    "_Feature"
   ],
   "window_display": false
  }
 },
 "nbformat": 4,
 "nbformat_minor": 4
}
